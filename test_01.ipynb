{
 "cells": [
  {
   "cell_type": "code",
   "execution_count": 2,
   "id": "6f0b1d2e",
   "metadata": {},
   "outputs": [],
   "source": [
    "from django.db import models\n",
    "\n",
    "\n",
    "from blog.models import Post\n"
   ]
  },
  {
   "cell_type": "code",
   "execution_count": 3,
   "id": "ff5ebd33",
   "metadata": {},
   "outputs": [],
   "source": [
    "\"\"\"\n",
    ">>> fruit = Fruit.objects.creste(name=\"Apple\")\n",
    ">>> fruit.name = 'Pear'\n",
    ">>> fruit.save()\n",
    ">>> Fruit.objects.values_list('name', flat=True)\n",
    "<QuerySet ['Apple', 'Pear']>\n",
    "\"\"\"\n",
    "\n",
    "post_test_title = Post.objects.create(title='ok')\n",
    "post_test_title.title = 'super'\n",
    "post_test_title.save()\n"
   ]
  },
  {
   "cell_type": "code",
   "execution_count": 4,
   "id": "e8539a2d",
   "metadata": {},
   "outputs": [
    {
     "data": {
      "text/plain": [
       "<QuerySet ['super']>"
      ]
     },
     "execution_count": 4,
     "metadata": {},
     "output_type": "execute_result"
    }
   ],
   "source": [
    "Post.objects.values_list('title', flat=True)\n"
   ]
  },
  {
   "cell_type": "code",
   "execution_count": null,
   "id": "5d4d868f",
   "metadata": {},
   "outputs": [],
   "source": []
  }
 ],
 "metadata": {
  "kernelspec": {
   "display_name": "Django Shell-Plus",
   "language": "python",
   "name": "django_extensions"
  },
  "language_info": {
   "codemirror_mode": {
    "name": "ipython",
    "version": 3
   },
   "file_extension": ".py",
   "mimetype": "text/x-python",
   "name": "python",
   "nbconvert_exporter": "python",
   "pygments_lexer": "ipython3",
   "version": "3.10.6"
  }
 },
 "nbformat": 4,
 "nbformat_minor": 5
}
